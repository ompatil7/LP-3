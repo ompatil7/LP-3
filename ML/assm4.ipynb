{
 "cells": [
  {
   "cell_type": "markdown",
   "id": "48e943a4-5c39-4cef-9b63-05ee7820aa36",
   "metadata": {},
   "source": [
    "4. Implement Gradient Descent Algorithm to find the local minima of a function.\n",
    "For example, find the local minima of the function y=(x+3)² starting from the point x=2."
   ]
  },
  {
   "cell_type": "code",
   "execution_count": 2,
   "id": "f28ce183",
   "metadata": {
    "executionInfo": {
     "elapsed": 455,
     "status": "ok",
     "timestamp": 1729831651350,
     "user": {
      "displayName": "Vishakha Premkumar Sainani",
      "userId": "04535386337225243883"
     },
     "user_tz": -330
    },
    "id": "f28ce183"
   },
   "outputs": [],
   "source": [
    "import numpy as np\n",
    "import matplotlib.pyplot as plt"
   ]
  },
  {
   "cell_type": "code",
   "execution_count": 3,
   "id": "c649fd9b",
   "metadata": {
    "executionInfo": {
     "elapsed": 469,
     "status": "ok",
     "timestamp": 1729831662897,
     "user": {
      "displayName": "Vishakha Premkumar Sainani",
      "userId": "04535386337225243883"
     },
     "user_tz": -330
    },
    "id": "c649fd9b"
   },
   "outputs": [],
   "source": [
    "def f(x):\n",
    "    return x**2 + 6*x + 9\n",
    "\n",
    "def df(x):\n",
    "    return 2*x + 6"
   ]
  },
  {
   "cell_type": "code",
   "execution_count": 4,
   "id": "6f106653",
   "metadata": {
    "executionInfo": {
     "elapsed": 459,
     "status": "ok",
     "timestamp": 1729831669637,
     "user": {
      "displayName": "Vishakha Premkumar Sainani",
      "userId": "04535386337225243883"
     },
     "user_tz": -330
    },
    "id": "6f106653"
   },
   "outputs": [],
   "source": [
    "def gradient_descent(initial_x, learning_rate, num_iterations):\n",
    "   x = initial_x\n",
    "   x_history = [x]\n",
    "\n",
    "   for i in range(num_iterations):\n",
    "       gradient = df(x)\n",
    "       x = x - learning_rate * gradient\n",
    "       x_history.append(x)\n",
    "\n",
    "   return x, x_history"
   ]
  },
  {
   "cell_type": "code",
   "execution_count": 6,
   "id": "a45f61c4",
   "metadata": {
    "colab": {
     "base_uri": "https://localhost:8080/"
    },
    "executionInfo": {
     "elapsed": 453,
     "status": "ok",
     "timestamp": 1729831672356,
     "user": {
      "displayName": "Vishakha Premkumar Sainani",
      "userId": "04535386337225243883"
     },
     "user_tz": -330
    },
    "id": "a45f61c4",
    "outputId": "476255e6-a5b3-4e09-f0df-7b76491d61cc"
   },
   "outputs": [
    {
     "name": "stdout",
     "output_type": "stream",
     "text": [
      "Local minimum: -3.00\n"
     ]
    }
   ],
   "source": [
    "initial_x = 0\n",
    "learning_rate = 0.1\n",
    "num_iterations = 50\n",
    "\n",
    "x, x_history = gradient_descent(initial_x, learning_rate, num_iterations)\n",
    "\n",
    "print(\"Local minimum: {:.2f}\".format(x))"
   ]
  },
  {
   "cell_type": "code",
   "execution_count": 5,
   "id": "423b049d",
   "metadata": {
    "colab": {
     "base_uri": "https://localhost:8080/",
     "height": 472
    },
    "executionInfo": {
     "elapsed": 593,
     "status": "ok",
     "timestamp": 1729831675652,
     "user": {
      "displayName": "Vishakha Premkumar Sainani",
      "userId": "04535386337225243883"
     },
     "user_tz": -330
    },
    "id": "423b049d",
    "outputId": "9585308e-e04c-451b-c5c9-e0dedcfbb46d"
   },
   "outputs": [
    {
     "data": {
      "image/png": "[encoded data removed]",
      "text/plain": [
       "<Figure size 640x480 with 1 Axes>"
      ]
     },
     "metadata": {},
     "output_type": "display_data"
    }
   ],
   "source": [
    "x_vals = np.linspace(-1, 5, 100)\n",
    "\n",
    "# Plot the function f(x)\n",
    "plt.plot(x_vals, f(x_vals))\n",
    "\n",
    "# Plot the values of x at each iteration\n",
    "plt.plot(x_history, f(np.array(x_history)), 'rx')\n",
    "\n",
    "# Label the axes and add a title\n",
    "plt.xlabel('x')\n",
    "plt.ylabel('f(x)')\n",
    "plt.title('Gradient Descent')\n",
    "\n",
    "# Show the plot\n",
    "plt.show()"
   ]
  },
  {
   "cell_type": "markdown",
   "id": "3162c834-cb19-49ce-b9e6-c7a3238695f0",
   "metadata": {},
   "source": [
    "##  Theory\n",
    "\n",
    "Iski theory yaha ja  - https://chatgpt.com/share/672910f8-2934-8006-9858-74d651df8517\n",
    "\n",
    "yaha se padh le, idhar ache se paste nai ho raha >_<"
   ]
  },
  {
   "cell_type": "code",
   "execution_count": null,
   "id": "dab355df-4e87-4e03-9a6b-2a255873482c",
   "metadata": {},
   "outputs": [],
   "source": []
  },
  {
   "cell_type": "code",
   "execution_count": null,
   "id": "61fc6f13-ab2f-4ee9-8ed8-174d8f393751",
   "metadata": {},
   "outputs": [],
   "source": []
  }
 ],
 "metadata": {
  "colab": {
   "provenance": []
  },
  "kernelspec": {
   "display_name": "Python 3 (ipykernel)",
   "language": "python",
   "name": "python3"
  },
  "language_info": {
   "codemirror_mode": {
    "name": "ipython",
    "version": 3
   },
   "file_extension": ".py",
   "mimetype": "text/x-python",
   "name": "python",
   "nbconvert_exporter": "python",
   "pygments_lexer": "ipython3",
   "version": "3.11.7"
  }
 },
 "nbformat": 4,
 "nbformat_minor": 5
}
